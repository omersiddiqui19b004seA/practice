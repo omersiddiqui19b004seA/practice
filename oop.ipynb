{
 "cells": [
  {
   "cell_type": "code",
   "execution_count": 30,
   "metadata": {},
   "outputs": [
    {
     "name": "stdout",
     "output_type": "stream",
     "text": [
      "mikey is 7 and philo is 5 years old\n",
      "mikey is 7 years old\n",
      "mikey says Gruff Gruff\n"
     ]
    }
   ],
   "source": [
    "class dog:\n",
    "    specieis='mammal'\n",
    "    #instance/attribute\n",
    "    def __init__(self,name,age):\n",
    "        self.name=name\n",
    "        self.age=age\n",
    "        #define age and name\n",
    "    #asking the dog is a mammal?\n",
    "#     if philo.specieis==\"mammal\":\n",
    "#         print(\"{0} is a {1}\".format(philo.name,philo.specieis))\n",
    "        #instance methods\n",
    "    def description(self):\n",
    "        return \"{} is {} years old\".format(self.name,self.age)\n",
    "    def speak(self, sound):\n",
    "        return \"{} says {}\".format(self.name, sound)\n",
    "\n",
    "mikey=dog('mikey',7)\n",
    "philo=dog('philo',5)\n",
    "    #access instance attribute and methods\n",
    "print(\"{2} is {3} and {0} is {1} years old\".format(philo.name,philo.age,mikey.name,mikey.age))\n",
    "\n",
    "# call our instance methods\n",
    "print(mikey.description())\n",
    "print(mikey.speak(\"Gruff Gruff\"))"
   ]
  },
  {
   "cell_type": "code",
   "execution_count": 25,
   "metadata": {},
   "outputs": [
    {
     "name": "stdout",
     "output_type": "stream",
     "text": [
      "Mikey is 6 years old\n",
      "Mikey says Gruff Gruff\n"
     ]
    }
   ],
   "source": [
    "class Dog:\n",
    "\n",
    "    # Class Attribute\n",
    "    species = 'mammal'\n",
    "\n",
    "    # Initializer / Instance Attributes\n",
    "    def __init__(self, name, age):\n",
    "        self.name = name\n",
    "        self.age = age\n",
    "\n",
    "    # instance method\n",
    "    def description(self):\n",
    "        return \"{} is {} years old\".format(self.name, self.age)\n",
    "\n",
    "    # instance method\n",
    "    def speak(self, sound):\n",
    "        return \"{} says {}\".format(self.name, sound)\n",
    "\n",
    "# Instantiate the Dog object\n",
    "mikey = Dog(\"Mikey\", 6)\n",
    "\n",
    "# call our instance methods\n",
    "print(mikey.description())\n",
    "print(mikey.speak(\"Gruff Gruff\"))"
   ]
  },
  {
   "cell_type": "code",
   "execution_count": 22,
   "metadata": {},
   "outputs": [
    {
     "name": "stdout",
     "output_type": "stream",
     "text": [
      "my name is omer and I am 19 years old and my id is 4 and my mail is omer.sidd93@gmail.com\n",
      "omer is a very nice man and have good humour also\n"
     ]
    }
   ],
   "source": [
    "class person:\n",
    "#     person='mammal'\n",
    "    def __init__(self,name,a6ge,id):\n",
    "        self.age=age\n",
    "        self.name=name\n",
    "        self.id=id\n",
    "#     omer=person('omer',19,4)\n",
    "#     hasan=person('hasan',28,5)\n",
    "#     print(\"{2} is {3} and {0} is {1} years old\".format(omer.name,omer.age,hasan.name,hasan.age))\n",
    "    def description(self,email):\n",
    "        self.email = email\n",
    "#         person.__init__(self,name,age,id)\n",
    "        return \"my name is {} and I am {} years old and my id is {} and my mail is {}\".format(self.name,self.age,self.id,self.email)\n",
    "    def behaviour(self,attiquates):\n",
    "        self.attiquates = attiquates\n",
    "        return \"{} is a very nice man and have {} humour also\".format(self.name,self.attiquates)\n",
    "omer=person('omer',19,4)\n",
    "print(omer.description(\"omer.sidd93@gmail.com\"))\n",
    "print(omer.behaviour(\"good\"))"
   ]
  }
 ],
 "metadata": {
  "kernelspec": {
   "display_name": "Python 3",
   "language": "python",
   "name": "python3"
  },
  "language_info": {
   "codemirror_mode": {
    "name": "ipython",
    "version": 3
   },
   "file_extension": ".py",
   "mimetype": "text/x-python",
   "name": "python",
   "nbconvert_exporter": "python",
   "pygments_lexer": "ipython3",
   "version": "3.7.3"
  }
 },
 "nbformat": 4,
 "nbformat_minor": 2
}
