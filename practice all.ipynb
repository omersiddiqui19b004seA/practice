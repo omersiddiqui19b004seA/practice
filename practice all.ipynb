{
 "cells": [
  {
   "cell_type": "code",
   "execution_count": 24,
   "metadata": {},
   "outputs": [
    {
     "name": "stdout",
     "output_type": "stream",
     "text": [
      "   February 2020\n",
      "Mo Tu We Th Fr Sa Su\n",
      "                1  2\n",
      " 3  4  5  6  7  8  9\n",
      "10 11 12 13 14 15 16\n",
      "17 18 19 20 21 22 23\n",
      "24 25 26 27 28 29\n",
      "\n"
     ]
    }
   ],
   "source": [
    "import calendar \n",
    "def calender(x,y):\n",
    "    print(calendar.month(y,x))\n",
    "calender(2,2020)"
   ]
  },
  {
   "cell_type": "code",
   "execution_count": 25,
   "metadata": {},
   "outputs": [
    {
     "name": "stdout",
     "output_type": "stream",
     "text": [
      "OMER\n",
      "omer\n"
     ]
    }
   ],
   "source": [
    "name='omer'\n",
    "print(name.upper())\n",
    "print(name.lower())"
   ]
  },
  {
   "cell_type": "code",
   "execution_count": 29,
   "metadata": {},
   "outputs": [
    {
     "name": "stdout",
     "output_type": "stream",
     "text": [
      "('tuple2', False, 3.3, 1)\n",
      "('tuple2', True, 3.3, 1)\n"
     ]
    }
   ],
   "source": [
    "tuple2=('tuple2',False,3.3,1)\n",
    "print(tuple2)\n",
    "tuple2=('tuple2',True,3.3,1)\n",
    "print(tuple2)"
   ]
  },
  {
   "cell_type": "code",
   "execution_count": 36,
   "metadata": {},
   "outputs": [
    {
     "name": "stdout",
     "output_type": "stream",
     "text": [
      "[2, 3, 4, 5, 6]\n",
      "[2, 3, 4, 5, 6]\n",
      "[]\n",
      "[2, 3, 4, 5, 6]\n"
     ]
    }
   ],
   "source": [
    "ls=[2,3,4]\n",
    "ls.extend([5,6])\n",
    "print(ls)\n",
    "ls2=ls.copy()\n",
    "print(ls2)\n",
    "ls.clear()\n",
    "print(ls)\n",
    "print(ls2)"
   ]
  },
  {
   "cell_type": "code",
   "execution_count": 39,
   "metadata": {},
   "outputs": [
    {
     "name": "stdout",
     "output_type": "stream",
     "text": [
      "-1 day, 0:00:00\n"
     ]
    }
   ],
   "source": [
    "from datetime import date \n",
    "date1=date(2020,2,9)\n",
    "date2=date(2020,2,10)\n",
    "print(date1-date2)"
   ]
  },
  {
   "cell_type": "code",
   "execution_count": 51,
   "metadata": {},
   "outputs": [
    {
     "name": "stdout",
     "output_type": "stream",
     "text": [
      "5 10 15 20 25 \n",
      "\n",
      "10 20 30 40 50 \n",
      "\n",
      "15 30 45 60 75 \n",
      "\n",
      "20 40 60 80 100 \n",
      "\n",
      "25 50 75 100 125 \n",
      "\n"
     ]
    }
   ],
   "source": [
    "def table(x,y):\n",
    "    for i in range(x,y):\n",
    "        for j in range(x,y):\n",
    "            for k in range(x,y):\n",
    "                m=i*j*k\n",
    "            print(m,end=(' '))\n",
    "        print(\"\\n\")\n",
    "table(1,6)"
   ]
  },
  {
   "cell_type": "code",
   "execution_count": 59,
   "metadata": {},
   "outputs": [
    {
     "name": "stdout",
     "output_type": "stream",
     "text": [
      "yes palindrome\n"
     ]
    }
   ],
   "source": [
    "def palindrome(name):\n",
    "    a=name.casefold()\n",
    "    b=a[::-1]\n",
    "    if b==name:\n",
    "        print(\"yes palindrome\")\n",
    "    else:\n",
    "        print(\"not palindrome\")\n",
    "palindrome('mom')"
   ]
  },
  {
   "cell_type": "code",
   "execution_count": 88,
   "metadata": {},
   "outputs": [
    {
     "name": "stdout",
     "output_type": "stream",
     "text": [
      "-0.9880316240928618 sin angle is\n",
      "0.15425144988758405 cos angle is\n",
      "-6.405331196646276 tan angle is\n",
      "-0.1760756199485871 sin angle is\n",
      "-0.9843766433940419 cos angle is\n",
      "0.17887017243876716 tan angle is\n",
      "0.8268286794901034 sin angle is\n",
      "-0.562453851238172 cos angle is\n",
      "-1.4700382576631723 tan angle is\n",
      "-0.7148764296291646 sin angle is\n",
      "0.6992508064783751 cos angle is\n",
      "-1.0223462354365875 tan angle is\n",
      "-0.8011526357338304 sin angle is\n",
      "-0.5984600690578581 cos angle is\n",
      "1.3386902103511544 tan angle is\n",
      "5\n"
     ]
    }
   ],
   "source": [
    "from math import sin,cos,tan\n",
    "def math(x):\n",
    "    for i in x:\n",
    "        print(\"{} sin angle is\".format(sin(i)))\n",
    "        print(\"{} cos angle is\".format(cos(i)))\n",
    "        print(\"{} tan angle is\".format(tan(i)))\n",
    "    print(len(x))\n",
    "math([30,85,65,150,180])"
   ]
  },
  {
   "cell_type": "code",
   "execution_count": null,
   "metadata": {},
   "outputs": [],
   "source": []
  },
  {
   "cell_type": "code",
   "execution_count": null,
   "metadata": {},
   "outputs": [],
   "source": []
  }
 ],
 "metadata": {
  "kernelspec": {
   "display_name": "Python 3",
   "language": "python",
   "name": "python3"
  },
  "language_info": {
   "codemirror_mode": {
    "name": "ipython",
    "version": 3
   },
   "file_extension": ".py",
   "mimetype": "text/x-python",
   "name": "python",
   "nbconvert_exporter": "python",
   "pygments_lexer": "ipython3",
   "version": "3.7.3"
  }
 },
 "nbformat": 4,
 "nbformat_minor": 2
}
