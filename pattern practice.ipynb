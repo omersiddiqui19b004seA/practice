{
 "cells": [
  {
   "cell_type": "code",
   "execution_count": 69,
   "metadata": {},
   "outputs": [
    {
     "name": "stdout",
     "output_type": "stream",
     "text": [
      "100 , 0.25 , -15 , 25\n",
      "5\n",
      " 6\n",
      " 7\n",
      " 8\n",
      " 9\n",
      " 9\tfail\n",
      "10\tfail\n",
      "11\tfail\n",
      "12\tfail\n",
      "13\tfail\n",
      "14\tfail\n",
      "15\tfail\n",
      "16\tfail\n",
      "17\tfail\n",
      "18\tfail\n",
      "19\tfail\n"
     ]
    }
   ],
   "source": [
    "import math\n",
    "def maths(x,y):\n",
    "    a=x*y\n",
    "    b=x/y\n",
    "    c=x-y\n",
    "    d=x+y\n",
    "    print(a,',',b,',',c,',',d)\n",
    "    for i in range(x,10):\n",
    "        print( i, end= '\\n ')\n",
    "    for j in range(9,y):\n",
    "        print(j, end='\\t')\n",
    "        if i<9 :\n",
    "            print(\"great\")\n",
    "        else:\n",
    "            print(\"fail\")\n",
    "maths(5,20)"
   ]
  },
  {
   "cell_type": "code",
   "execution_count": 2,
   "metadata": {},
   "outputs": [
    {
     "name": "stdout",
     "output_type": "stream",
     "text": [
      "b  \n",
      "b b  \n",
      "b b b  \n",
      "b b b b  \n",
      "b b b b b  \n",
      "a a a a a  \n",
      "a a a a  \n",
      "a a a  \n",
      "a a  \n",
      "a  \n"
     ]
    }
   ],
   "source": [
    "for i in range(0,5):\n",
    "    for j in range(0,i+1):\n",
    "        print(\"b\",end=\" \")\n",
    "    print(\" \")\n",
    "for i in range(5,0,-1):\n",
    "    for j in range(i):\n",
    "        print(\"a\",end=\" \")\n",
    "    print(\" \")"
   ]
  },
  {
   "cell_type": "code",
   "execution_count": 3,
   "metadata": {},
   "outputs": [
    {
     "name": "stdout",
     "output_type": "stream",
     "text": [
      "nameaffan\n",
      "a \n",
      "a f \n",
      "a f f \n",
      "a f f a \n",
      "a f f a n \n",
      "a f f a n \n",
      "a f f a \n",
      "a f f \n",
      "a f \n",
      "a \n"
     ]
    }
   ],
   "source": [
    "name=input(str(\"name\"))\n",
    "length=len(name)\n",
    "for i in range(length):\n",
    "    for j in range(i+1):\n",
    "        print(name[j],end=' ')\n",
    "    print()\n",
    "for i in range(length,0,-1):\n",
    "    for j in range(i):\n",
    "        print(name[j],end=' ')\n",
    "    print()"
   ]
  },
  {
   "cell_type": "code",
   "execution_count": 129,
   "metadata": {},
   "outputs": [
    {
     "name": "stdout",
     "output_type": "stream",
     "text": [
      "namepython \n",
      "\n",
      "p \n",
      "p y \n",
      "p y t \n",
      "p y t h \n",
      "p y t h o \n",
      "p y t h o n \n",
      "p y t h o n   \n",
      "p y t h o n \n",
      "p y t h o \n",
      "p y t h \n",
      "p y t \n",
      "p y \n",
      "p \n",
      "            * \n",
      "          * * \n",
      "        * * * \n",
      "      * * * * \n",
      "    * * * * * \n",
      "  * * * * * * \n",
      "* * * * * * * \n",
      "* * * * * * * \n",
      "  * * * * * * \n",
      "    * * * * * \n",
      "      * * * * \n",
      "        * * * \n",
      "          * * \n",
      "            * \n"
     ]
    }
   ],
   "source": [
    "name=input(str(\"name\"))\n",
    "length=len(name)\n",
    "for i in range(length):\n",
    "    for j in range(i):\n",
    "        print(name[j],end=' ')\n",
    "    print()\n",
    "for i in range(length,0,-1):\n",
    "    for j in range(i):\n",
    "        print(name[j],end=' ')\n",
    "    print()\n",
    "for i in range(1,length+1):\n",
    "    for j in range(1,length+1):\n",
    "        if (j<=length-i):\n",
    "            print(' ',end=' ')\n",
    "        else:\n",
    "            print('*',end=' ')\n",
    "    print('')\n",
    "for i in range(length,0,-1):\n",
    "    for j in range(1,length+1):\n",
    "        if (j<=length-i):\n",
    "            print(' ',end=' ')\n",
    "        else:\n",
    "            print('*',end=' ')\n",
    "    print('')"
   ]
  },
  {
   "cell_type": "code",
   "execution_count": 161,
   "metadata": {},
   "outputs": [
    {
     "name": "stdout",
     "output_type": "stream",
     "text": [
      "*  *  *  *  *  \n",
      "*           *  \n",
      "*           *  \n",
      "*  *  *  *  *  \n",
      "*           *  \n",
      "*           *  \n",
      "*           *  \n"
     ]
    }
   ],
   "source": [
    "for i in range(7):\n",
    "    for j in range(5):\n",
    "        if ((j==0 or j==4)and i!=0)or((i==0 or i==3) and (j>0 or j<4)):\n",
    "            print('*',end='  ')\n",
    "        elif ((i==0 and j==0) and (i==0 and j==4)):\n",
    "            print(end=\"   \")\n",
    "        else:\n",
    "            print(end=\"   \")\n",
    "    print()"
   ]
  },
  {
   "cell_type": "code",
   "execution_count": 124,
   "metadata": {},
   "outputs": [
    {
     "name": "stdout",
     "output_type": "stream",
     "text": [
      "enter string: pythonjgj\n",
      "                * \n",
      "              * * \n",
      "            * * * \n",
      "          * * * * \n",
      "        * * * * * \n",
      "      * * * * * * \n",
      "    * * * * * * * \n",
      "  * * * * * * * * \n",
      "* * * * * * * * * \n"
     ]
    }
   ],
   "source": [
    "name=str(input(\"enter string: \"))\n",
    "length=len(name)\n",
    "for i in range(1,length+1):\n",
    "    for j in range(1,length+1):\n",
    "        if (j<=length-i):\n",
    "            print(' ',end=' ')\n",
    "        else:\n",
    "            print('*',end=' ')\n",
    "    print('')"
   ]
  },
  {
   "cell_type": "code",
   "execution_count": 168,
   "metadata": {},
   "outputs": [
    {
     "name": "stdout",
     "output_type": "stream",
     "text": [
      "*  *  *  *  *  \n",
      "*           *  \n",
      "*           *  \n",
      "*  *  *  *  *  \n",
      "*           *  \n",
      "*           *  \n",
      "*           *  \n"
     ]
    }
   ],
   "source": [
    "for i in range(7):\n",
    "    for j in range(5):\n",
    "        if ((j==0 or j==4)and i!=0)or((i==0 or i==3) and (j>0 or j<4)):\n",
    "            print('*',end='  ')\n",
    "\n",
    "#            print('*',end='  ')\n",
    "        else:\n",
    "            print(end=\"   \")\n",
    "    print()"
   ]
  },
  {
   "cell_type": "code",
   "execution_count": null,
   "metadata": {},
   "outputs": [],
   "source": []
  }
 ],
 "metadata": {
  "kernelspec": {
   "display_name": "Python 3",
   "language": "python",
   "name": "python3"
  },
  "language_info": {
   "codemirror_mode": {
    "name": "ipython",
    "version": 3
   },
   "file_extension": ".py",
   "mimetype": "text/x-python",
   "name": "python",
   "nbconvert_exporter": "python",
   "pygments_lexer": "ipython3",
   "version": "3.7.3"
  }
 },
 "nbformat": 4,
 "nbformat_minor": 2
}
