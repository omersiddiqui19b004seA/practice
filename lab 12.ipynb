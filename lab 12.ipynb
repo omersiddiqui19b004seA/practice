{
 "cells": [
  {
   "cell_type": "markdown",
   "metadata": {},
   "source": [
    "# Muhammad Omer Siddqui \n",
    "# 19B-004-SE (A)\n",
    "# Lab 12"
   ]
  },
  {
   "cell_type": "code",
   "execution_count": 1,
   "metadata": {},
   "outputs": [
    {
     "name": "stdout",
     "output_type": "stream",
     "text": [
      "[5, 7, 97, 77, 23, 73, 61]\n"
     ]
    }
   ],
   "source": [
    "li=[5,7,22,97,54,62,77,23,73,61]\n",
    "final_list=list(filter(lambda x:(x%2!=0),li))\n",
    "print(final_list)"
   ]
  },
  {
   "cell_type": "code",
   "execution_count": 2,
   "metadata": {},
   "outputs": [
    {
     "name": "stdout",
     "output_type": "stream",
     "text": [
      "[5, 7, 22, 97, 54, 62, 77, 23, 73, 61]\n"
     ]
    }
   ],
   "source": [
    "li=[5,7,22,97,54,62,77,23,73,61]\n",
    "final_list=list(filter(lambda x:x*2,li))\n",
    "print(final_list)"
   ]
  },
  {
   "cell_type": "code",
   "execution_count": 12,
   "metadata": {},
   "outputs": [
    {
     "name": "stdout",
     "output_type": "stream",
     "text": [
      "193\n"
     ]
    }
   ],
   "source": [
    "from functools import reduce\n",
    "li=[5,8,10,20,50,100]\n",
    "sum = reduce((lambda x, y: x + y), li)\n",
    "print(sum)"
   ]
  },
  {
   "cell_type": "code",
   "execution_count": 14,
   "metadata": {},
   "outputs": [
    {
     "name": "stdout",
     "output_type": "stream",
     "text": [
      "343\n",
      "125\n"
     ]
    }
   ],
   "source": [
    "def cube(y):\n",
    "    return y*y*y;\n",
    "c=lambda x: x*x*x\n",
    "print(c(7))\n",
    "print(cube(5))"
   ]
  },
  {
   "cell_type": "code",
   "execution_count": 58,
   "metadata": {},
   "outputs": [
    {
     "name": "stdout",
     "output_type": "stream",
     "text": [
      "[10, 14, 44, 194, 108, 124, 154, 46, 146, 122]\n"
     ]
    }
   ],
   "source": [
    "li=[5,7,22,97,54,62,77,23,73,61]\n",
    "final_list=list(map(lambda x:x*2,li))\n",
    "print(final_list)"
   ]
  },
  {
   "cell_type": "code",
   "execution_count": 27,
   "metadata": {},
   "outputs": [
    {
     "name": "stdout",
     "output_type": "stream",
     "text": [
      "[12, 24, 36, 48, 60, 72, 84, 96, 108, 120, 132, 144]\n"
     ]
    }
   ],
   "source": [
    "#program 1 9:40 \n",
    "final_list=[x*12 for x in range(1,13)]\n",
    "print(final_list)\n",
    "#9:50"
   ]
  },
  {
   "cell_type": "code",
   "execution_count": 77,
   "metadata": {},
   "outputs": [
    {
     "name": "stdout",
     "output_type": "stream",
     "text": [
      "[1, 2, 3, 4, 5] positive value\n",
      "[-6, -7, -8, -9] negative value\n",
      "[1, 2, 3, 4, 5, -6, -7, -8, -9]\n"
     ]
    }
   ],
   "source": [
    "#program 2 9:50\n",
    "lst=[1,2,3,4,5,-6,-7,-8,-9]\n",
    "lst1=[x for x in lst if x<=0]\n",
    "lst2=[x for x in lst if x>=0]\n",
    "print(lst2,\"positive value\")\n",
    "print(lst1,\"negative value\")\n",
    "print(lst)\n",
    "#10:10"
   ]
  },
  {
   "cell_type": "code",
   "execution_count": 80,
   "metadata": {},
   "outputs": [
    {
     "name": "stdout",
     "output_type": "stream",
     "text": [
      "{'k': [14, 28, 42, 56, 70, 84, 98]}\n"
     ]
    }
   ],
   "source": [
    "#program 3 10:10\n",
    "dict1={}\n",
    "d1={'k':[x for x in range (100) if x>5 and x%7==0 and x%2==0 ]}\n",
    "print(d1)\n",
    "#11:10"
   ]
  },
  {
   "cell_type": "code",
   "execution_count": 21,
   "metadata": {},
   "outputs": [
    {
     "name": "stdout",
     "output_type": "stream",
     "text": [
      "filter function [5, 7, 22, 97, 54, 62, 77, 23, 73, 61]\n",
      "map function [10, 14, 44, 194, 108, 124, 154, 46, 146, 122]\n",
      "reduce function 8000\n"
     ]
    }
   ],
   "source": [
    "#program 5 5:36\n",
    "from functools import reduce\n",
    "li=[5,7,22,97,54,62,77,23,73,61]\n",
    "#output  of filter\n",
    "final_list=list(filter(lambda x:x*2,li))\n",
    "print(\"filter function\",final_list)\n",
    "li=[5,7,22,97,54,62,77,23,73,61]\n",
    "#output of map\n",
    "final_list=list(map(lambda x:x*2,li))\n",
    "print(\"map function\",final_list)\n",
    "li=[5,7,22,97,54,62,77,23,73,61]\n",
    "#output of reduce\n",
    "li=[5,8,10,20]\n",
    "final_list=(reduce(lambda x,y:x*y,li))\n",
    "print(\"reduce function\",final_list)\n",
    "#5:46"
   ]
  },
  {
   "cell_type": "code",
   "execution_count": 5,
   "metadata": {},
   "outputs": [
    {
     "name": "stdout",
     "output_type": "stream",
     "text": [
      "5 x 0 = 0\n",
      "5 x 1 = 5\n",
      "5 x 2 = 10\n",
      "5 x 3 = 15\n",
      "5 x 4 = 20\n",
      "5 x 5 = 25\n",
      "5 x 6 = 30\n",
      "5 x 7 = 35\n",
      "5 x 8 = 40\n",
      "5 x 9 = 45\n",
      "5 x 10 = 50\n"
     ]
    }
   ],
   "source": [
    "#program 6 5:33\n",
    "def table(x):\n",
    "    lambda x:x*y\n",
    "    for y in range(11):\n",
    "        print(x,'x' ,y,\"=\",y*x)\n",
    "table(5)\n",
    "#5:35"
   ]
  }
 ],
 "metadata": {
  "kernelspec": {
   "display_name": "Python 3",
   "language": "python",
   "name": "python3"
  },
  "language_info": {
   "codemirror_mode": {
    "name": "ipython",
    "version": 3
   },
   "file_extension": ".py",
   "mimetype": "text/x-python",
   "name": "python",
   "nbconvert_exporter": "python",
   "pygments_lexer": "ipython3",
   "version": "3.7.3"
  }
 },
 "nbformat": 4,
 "nbformat_minor": 2
}
