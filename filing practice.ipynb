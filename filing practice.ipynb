{
 "cells": [
  {
   "cell_type": "code",
   "execution_count": 18,
   "metadata": {},
   "outputs": [
    {
     "name": "stdout",
     "output_type": "stream",
     "text": [
      "20\n"
     ]
    }
   ],
   "source": [
    "def file(filename):\n",
    "    infile=open(filename,'r+')\n",
    "#     content=infile.write(\"omer is a good boy \\n he study programming \\n he is 19 years old\")\n",
    "    read=infile.readline()\n",
    "#     spaces=read.split()\n",
    "    lines=len(read)\n",
    "    print(lines)\n",
    "    infile.close\n",
    "file('omer.txt')"
   ]
  },
  {
   "cell_type": "code",
   "execution_count": 23,
   "metadata": {},
   "outputs": [
    {
     "name": "stdout",
     "output_type": "stream",
     "text": [
      "49\n"
     ]
    }
   ],
   "source": [
    "def file(filename):\n",
    "    infile=open(filename,'r')\n",
    "    content=infile.read()\n",
    "    word=content.split()\n",
    "    print(len(word))\n",
    "    infile.close  \n",
    "file('omer.txt')"
   ]
  },
  {
   "cell_type": "code",
   "execution_count": 29,
   "metadata": {},
   "outputs": [
    {
     "name": "stdout",
     "output_type": "stream",
     "text": [
      "89\n",
      "564\n"
     ]
    }
   ],
   "source": [
    "def lines(filename):\n",
    "    infile=open(filename,'r+')\n",
    "    content=infile.read()\n",
    "    word=content.split()\n",
    "    print(len(word))\n",
    "    print(len(content))\n",
    "    lines=infile.write(\"the depaertment is software engineering \\t you are awesome\\n nothing good happens\")\n",
    "    infile.close\n",
    "lines('omer.txt')"
   ]
  },
  {
   "cell_type": "code",
   "execution_count": 31,
   "metadata": {},
   "outputs": [],
   "source": [
    "def lines(filename):\n",
    "    infile=open(filename,'a')\n",
    "#     content=infile.read()\n",
    "#     word=content.split()\n",
    "#     print(len(word))\n",
    "#     print(len(content))\n",
    "    lines=infile.write(\"\\nSoftware is a set of instructions,\\n data or programs used to operate computers and execute specific tasks. Opposite of hardware,\\n which describes the physical aspects of a computer,\\n software is a generic term used to refer to applications,\\n scripts and programs that run on a device\")\n",
    "    infile.close\n",
    "lines('omer.txt')"
   ]
  },
  {
   "cell_type": "code",
   "execution_count": 62,
   "metadata": {},
   "outputs": [
    {
     "name": "stdout",
     "output_type": "stream",
     "text": [
      "xxxx\n",
      " he study programming \n",
      " he is \n",
      "4\n",
      "927\n"
     ]
    }
   ],
   "source": [
    "infile=open('omer.txt','r')\n",
    "content=infile.read()\n",
    "infile.close\n",
    "wordlist=content.strip()\n",
    "count=wordlist.count('programming')\n",
    "# print(len(count))\n",
    "if count==4:\n",
    "    print('xxxx')\n",
    "print(wordlist[20:50])\n",
    "print(count)\n",
    "print( len(wordlist))"
   ]
  },
  {
   "cell_type": "code",
   "execution_count": 71,
   "metadata": {},
   "outputs": [],
   "source": [
    "def abc(x):\n",
    "    infile=open(x,'r+')\n",
    "    content=infile.read()\n",
    "#     write=infile.write(\"my name is omer \\n and i am now performing question 4\\n tommorow is the exam day\")\n",
    "    word=content.split()\n",
    "    for i in word:\n",
    "        if len(i)==4:\n",
    "            i='xxxx'\n",
    "            infile.write(\"{0}\".format(i))\n",
    "        else:\n",
    "            infile.write(\"{0}\".format(i))\n",
    "abc('abc.txt')"
   ]
  },
  {
   "cell_type": "code",
   "execution_count": 82,
   "metadata": {},
   "outputs": [
    {
     "data": {
      "text/plain": [
       "True"
      ]
     },
     "execution_count": 82,
     "metadata": {},
     "output_type": "execute_result"
    }
   ],
   "source": [
    "def duplicate(x):\n",
    "    infile=open(x,'r+')\n",
    "#     a=infile.write('abc abc omer ')\n",
    "    content=infile.read()\n",
    "    word=content.split()\n",
    "    lst=[]\n",
    "    for i in word:\n",
    "        if i in lst:\n",
    "            return False\n",
    "        else:\n",
    "            c=lst.append(i)\n",
    "            return True\n",
    "duplicate('duplicate.txt')"
   ]
  },
  {
   "cell_type": "code",
   "execution_count": 81,
   "metadata": {},
   "outputs": [
    {
     "data": {
      "text/plain": [
       "True"
      ]
     },
     "execution_count": 81,
     "metadata": {},
     "output_type": "execute_result"
    }
   ],
   "source": [
    "def duplicate(x):\n",
    "    infile=open(x,'r+')\n",
    "#     a=infile.write('abc abc omer ')\n",
    "    content=infile.read()\n",
    "    word=content.split()\n",
    "    lst=[]\n",
    "    for i in word:\n",
    "        if i in lst:\n",
    "            return False\n",
    "        else:\n",
    "            c=lst.append(i)\n",
    "            return True\n",
    "duplicate('duplicate.txt')"
   ]
  }
 ],
 "metadata": {
  "kernelspec": {
   "display_name": "Python 3",
   "language": "python",
   "name": "python3"
  },
  "language_info": {
   "codemirror_mode": {
    "name": "ipython",
    "version": 3
   },
   "file_extension": ".py",
   "mimetype": "text/x-python",
   "name": "python",
   "nbconvert_exporter": "python",
   "pygments_lexer": "ipython3",
   "version": "3.7.3"
  }
 },
 "nbformat": 4,
 "nbformat_minor": 2
}
